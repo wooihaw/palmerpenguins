{
 "cells": [
  {
   "cell_type": "markdown",
   "id": "d42549d2",
   "metadata": {},
   "source": [
    "# Palmer Penguins\n",
    "The Palmerpenguins dataset contain data for 344 penguins from 3 islands in the Palmer Archipelago, Antarctica. There are 3 different species of penguins in this dataset. These species are Adelie, Gentoo and Chinstrap, as shown in figure below (Artwork by @allison_horst).\n",
    "![Palmer Penguins](https://allisonhorst.github.io/palmerpenguins/reference/figures/lter_penguins.png)"
   ]
  },
  {
   "cell_type": "code",
   "execution_count": null,
   "id": "ad330dd1",
   "metadata": {},
   "outputs": [],
   "source": [
    "# Load the dataset\n",
    "from pandas import read_csv, get_dummies\n",
    "df = read_csv(\"https://raw.githubusercontent.com/wooihaw/datasets/main/penguins.csv\")"
   ]
  },
  {
   "cell_type": "markdown",
   "id": "13af3b47",
   "metadata": {},
   "source": [
    "To do:\n",
    "- Explore the dataset\n",
    "- Pre-process the data\n",
    "- Train and evaluate logistic regression, k-NN and decision tree models to classify the penguin species using 5-fold cross-validation."
   ]
  },
  {
   "cell_type": "code",
   "execution_count": null,
   "id": "3ca6fe3f",
   "metadata": {},
   "outputs": [],
   "source": []
  }
 ],
 "metadata": {
  "kernelspec": {
   "display_name": "Python 3 (ipykernel)",
   "language": "python",
   "name": "python3"
  },
  "language_info": {
   "codemirror_mode": {
    "name": "ipython",
    "version": 3
   },
   "file_extension": ".py",
   "mimetype": "text/x-python",
   "name": "python",
   "nbconvert_exporter": "python",
   "pygments_lexer": "ipython3",
   "version": "3.11.3"
  }
 },
 "nbformat": 4,
 "nbformat_minor": 5
}
